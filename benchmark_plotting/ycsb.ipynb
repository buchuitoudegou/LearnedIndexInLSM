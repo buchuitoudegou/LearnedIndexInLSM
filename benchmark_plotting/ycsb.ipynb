{
 "cells": [
  {
   "cell_type": "code",
   "execution_count": null,
   "id": "0",
   "metadata": {},
   "outputs": [],
   "source": [
    "import matplotlib as mpl\n",
    "\n",
    "import pandas as pd\n",
    "import seaborn as sns\n",
    "\n",
    "import matplotlib.pyplot as plt\n",
    "column_names = [\"Tag\", \"TrainTime\", \"ReadTime\", \"IndexSize\"]\n",
    "\n",
    "# Read the data\n",
    "df = pd.read_csv(\"data.dat\", names=column_names)\n",
    "\n",
    "# Split the 'tag' column into 'Method' and 'Dataset'\n",
    "df[['Learned Index', 'Dataset', 'Workload', 'Range']] = df['Tag'].str.split('_', expand=True)\n",
    "\n",
    "mpl.rcParams['font.family'] = 'Times New Roman'\n",
    "\n",
    "num_datasets = df['Workload'].nunique()\n",
    "df['ReadTime'] = df['ReadTime'] / 10e7\n",
    "# df['TrainTime'] = df['TrainTime'] /10e6\n",
    "\n",
    "g = sns.FacetGrid(df,row=\"Dataset\", col=\"Workload\", sharey=False )\n",
    "\n",
    "# Apply a barplot on each facet\n",
    "# palette = sns.color_palette(\"deep\")\n",
    "palette = sns.color_palette(['#e76254', '#ef8a47', '#f7aa58', '#ffd06f', '#ffe6b7', '#aadce0', '#72bcd5', '#528fad', '#376795', '#1e466e'])\n",
    "# sns.set_palette(sns.color_palette(\"hls\", 10)) # 使用 hls 色彩空间生成 10 个颜色\n",
    "\n",
    "\n",
    "g.map(sns.barplot, 'Learned Index', 'ReadTime', order=df['Learned Index'].unique(),palette=palette, linewidth=1, edgecolor='black')\n",
    "g.set_xticklabels(rotation=90)\n",
    "\n",
    "# hatches = ['/', '//', '\\\\', '\\\\\\\\', '.','..', '-', '--', '+', '++' ]\n",
    "# for ax in g.axes.flat:\n",
    "#     for i, bar in enumerate(ax.patches):\n",
    "#         bar.set_hatch(hatches[i % len(hatches)])\n",
    "#         bar.set_facecolor(palette[i % len(palette)])  # No fill\n",
    "#         bar.set_edgecolor('black')  # Hatch color\n",
    "\n",
    "for ax in g.axes.flat:\n",
    "    for _, spine in ax.spines.items():\n",
    "        spine.set_visible(True)\n",
    "        spine.set_linewidth(1)\n",
    "\n",
    "\n",
    "g.set_titles(\"{row_name},{col_name}\",size=20)\n",
    "g.set_axis_labels(\"\", \"Average Query Time/μs\",size=17)\n",
    "\n",
    "g.set_xticklabels(size=14)\n",
    "g.set_yticklabels(size=14)\n",
    "\n",
    "plt.savefig(\"YCSB.pdf\", format='pdf', bbox_inches='tight')\n",
    "\n",
    "plt.show()"
   ]
  },
  {
   "cell_type": "code",
   "execution_count": null,
   "id": "1",
   "metadata": {},
   "outputs": [],
   "source": []
  },
  {
   "cell_type": "code",
   "execution_count": null,
   "id": "2",
   "metadata": {},
   "outputs": [],
   "source": []
  }
 ],
 "metadata": {
  "kernelspec": {
   "display_name": "Python(ds)",
   "language": "python",
   "name": "ds"
  },
  "language_info": {
   "codemirror_mode": {
    "name": "ipython",
    "version": 3
   },
   "file_extension": ".py",
   "mimetype": "text/x-python",
   "name": "python",
   "nbconvert_exporter": "python",
   "pygments_lexer": "ipython3",
   "version": "3.7.12"
  }
 },
 "nbformat": 4,
 "nbformat_minor": 5
}
